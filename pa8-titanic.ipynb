{
 "cells": [
  {
   "cell_type": "code",
   "execution_count": 32,
   "metadata": {},
   "outputs": [],
   "source": [
    "# some useful mysklearn package import statements and reloads\n",
    "import importlib\n",
    "\n",
    "import mysklearn.myutils\n",
    "importlib.reload(mysklearn.myutils)\n",
    "import mysklearn.myutils as myutils\n",
    "\n",
    "# uncomment once you paste your mypytable.py into mysklearn package\n",
    "import mysklearn.mypytable\n",
    "importlib.reload(mysklearn.mypytable)\n",
    "from mysklearn.mypytable import MyPyTable \n",
    "\n",
    "import mysklearn.myruleminer\n",
    "importlib.reload(mysklearn.myruleminer)\n",
    "from mysklearn.myruleminer import MyAssociationRuleMiner"
   ]
  },
  {
   "cell_type": "markdown",
   "metadata": {},
   "source": [
    "## Titanic Dataset\n",
    "\n",
    "We are now going to do some rule mining with the titanic data set, using different support and confidence values. We are then going to compare the findings between the rules the different support and confidence levels create. First we are going to use the default confidence of .8 along with a high support of .4."
   ]
  },
  {
   "cell_type": "code",
   "execution_count": 33,
   "metadata": {},
   "outputs": [
    {
     "name": "stdout",
     "output_type": "stream",
     "text": [
      "['att0=crew', 'att0=first', 'att0=second', 'att0=third', 'att1=adult', 'att1=child', 'att2=female', 'att2=male', 'att3=no', 'att3=yes']\n",
      "If val = att0=third THEN val = att1=adult   Confidence: 1.0    Support: 0.4020899591094957   Lift: 0.42304015296367115\n",
      "If val = att2=female THEN val = att1=adult   Confidence: 0.9630271519352975    Support: 0.7573830077237619   Lift: 0.7968451242829828\n",
      "If val = att3=yes THEN val = att1=adult   Confidence: 0.9651006711409396    Support: 0.6533393911858246   Lift: 0.6873804971319312\n",
      "If val = att3=yes THEN val = att2=female   Confidence: 0.9154362416107382    Support: 0.6197183098591549   Lift: 0.7879838243789717\n",
      "If val = att2=female AND val = att3=yes THEN val = att1=adult   Confidence: 0.9743401759530792    Support: 0.6038164470695139   Lift: 0.6352772466539197\n",
      "If val = att1=adult AND val = att3=yes THEN val = att2=female   Confidence: 0.9242002781641169    Support: 0.6038164470695139   Lift: 0.7677642980935875\n",
      "If val = att3=yes THEN val = att1=adult AND val = att2=female   Confidence: 0.8919463087248322    Support: 0.6038164470695139   Lift: 0.7972405518896221\n",
      "\n"
     ]
    }
   ],
   "source": [
    "table = MyPyTable()\n",
    "\n",
    "table.load_from_file(\"input_data/titanic.csv\")\n",
    "\n",
    "rule_miner = MyAssociationRuleMiner(.4, .8)\n",
    "\n",
    "rule_miner.fit(table.data)\n",
    "\n",
    "rule_miner.print_association_rules(table.data)"
   ]
  },
  {
   "cell_type": "markdown",
   "metadata": {},
   "source": [
    "As you can see, these support and confidence levels generated 7 rules, with the main focus of the rules seeming to be around the person being an adult, a female, and that they survived. There seems to be a strong correlation between gender and survival rate, because all 4/6 of the rules generated that mentioned either yes for survival or female for gender had the other one also in the rule. This seems to make sense because my understanding of the evacuation was then women and children got onto escape boats first, so they would have a higher chance of survival then men. Lets see how this compares to changing the confidence level to .7."
   ]
  },
  {
   "cell_type": "code",
   "execution_count": 34,
   "metadata": {},
   "outputs": [
    {
     "name": "stdout",
     "output_type": "stream",
     "text": [
      "['att0=crew', 'att0=first', 'att0=second', 'att0=third', 'att1=adult', 'att1=child', 'att2=female', 'att2=male', 'att3=no', 'att3=yes']\n",
      "If val = att0=third THEN val = att1=adult   Confidence: 1.0    Support: 0.4020899591094957   Lift: 0.42304015296367115\n",
      "If val = att2=female THEN val = att1=adult   Confidence: 0.9630271519352975    Support: 0.7573830077237619   Lift: 0.7968451242829828\n",
      "If val = att1=adult THEN val = att2=female   Confidence: 0.7968451242829828    Support: 0.7573830077237619   Lift: 0.9630271519352975\n",
      "If val = att3=yes THEN val = att1=adult   Confidence: 0.9651006711409396    Support: 0.6533393911858246   Lift: 0.6873804971319312\n",
      "If val = att3=yes THEN val = att2=female   Confidence: 0.9154362416107382    Support: 0.6197183098591549   Lift: 0.7879838243789717\n",
      "If val = att2=female THEN val = att3=yes   Confidence: 0.7879838243789717    Support: 0.6197183098591549   Lift: 0.9154362416107382\n",
      "If val = att2=female AND val = att3=yes THEN val = att1=adult   Confidence: 0.9743401759530792    Support: 0.6038164470695139   Lift: 0.6352772466539197\n",
      "If val = att1=adult AND val = att3=yes THEN val = att2=female   Confidence: 0.9242002781641169    Support: 0.6038164470695139   Lift: 0.7677642980935875\n",
      "If val = att1=adult AND val = att2=female THEN val = att3=yes   Confidence: 0.7972405518896221    Support: 0.6038164470695139   Lift: 0.8919463087248322\n",
      "If val = att3=yes THEN val = att1=adult AND val = att2=female   Confidence: 0.8919463087248322    Support: 0.6038164470695139   Lift: 0.7972405518896221\n",
      "If val = att2=female THEN val = att1=adult AND val = att3=yes   Confidence: 0.7677642980935875    Support: 0.6038164470695139   Lift: 0.9242002781641169\n",
      "\n"
     ]
    }
   ],
   "source": [
    "table.load_from_file(\"input_data/titanic.csv\")\n",
    "rule_miner = MyAssociationRuleMiner(.4, .7)\n",
    "\n",
    "rule_miner.fit(table.data)\n",
    "\n",
    "rule_miner.print_association_rules(table.data)"
   ]
  },
  {
   "cell_type": "markdown",
   "metadata": {},
   "source": [
    "Obviously, this rule miner has the same rules as the previous one, however it also added 4 more due to the lower confidence threshold. These added rules seemed to further show a connection between gender and survival, but also started to show that most of the people on the boat were adults. This also makes sense because I doubt many people would be bringing their kids on a ship like this, though there were obviously some. Lets try changing the support to .25 and the confidence to .9 and see what happens."
   ]
  },
  {
   "cell_type": "code",
   "execution_count": 35,
   "metadata": {},
   "outputs": [
    {
     "name": "stdout",
     "output_type": "stream",
     "text": [
      "['att0=crew', 'att0=first', 'att0=second', 'att0=third', 'att1=adult', 'att1=child', 'att2=female', 'att2=male', 'att3=no', 'att3=yes']\n",
      "If val = att0=third THEN val = att1=adult   Confidence: 1.0    Support: 0.4020899591094957   Lift: 0.42304015296367115\n",
      "If val = att0=third THEN val = att2=female   Confidence: 0.9740112994350283    Support: 0.39164016356201725   Lift: 0.49797804737146156\n",
      "If val = att2=female THEN val = att1=adult   Confidence: 0.9630271519352975    Support: 0.7573830077237619   Lift: 0.7968451242829828\n",
      "If val = att3=no THEN val = att1=adult   Confidence: 0.919831223628692    Support: 0.2971376646978646   Lift: 0.31261950286806883\n",
      "If val = att3=yes THEN val = att1=adult   Confidence: 0.9651006711409396    Support: 0.6533393911858246   Lift: 0.6873804971319312\n",
      "If val = att3=yes THEN val = att2=female   Confidence: 0.9154362416107382    Support: 0.6197183098591549   Lift: 0.7879838243789717\n",
      "If val = att0=third AND val = att2=female THEN val = att1=adult   Confidence: 1.0    Support: 0.39164016356201725   Lift: 0.41204588910133844\n",
      "If val = att0=third AND val = att1=adult THEN val = att2=female   Confidence: 0.9740112994350283    Support: 0.39164016356201725   Lift: 0.49797804737146156\n",
      "If val = att0=third THEN val = att1=adult AND val = att2=female   Confidence: 0.9740112994350283    Support: 0.39164016356201725   Lift: 0.5170965806838632\n",
      "If val = att0=third AND val = att3=yes THEN val = att1=adult   Confidence: 1.0    Support: 0.3057701044979555   Lift: 0.32170172084130016\n",
      "If val = att0=third AND val = att3=yes THEN val = att2=female   Confidence: 0.9955423476968797    Support: 0.3044070876874148   Lift: 0.3870595031773541\n",
      "If val = att2=female AND val = att3=yes THEN val = att1=adult   Confidence: 0.9743401759530792    Support: 0.6038164470695139   Lift: 0.6352772466539197\n",
      "If val = att1=adult AND val = att3=yes THEN val = att2=female   Confidence: 0.9242002781641169    Support: 0.6038164470695139   Lift: 0.7677642980935875\n",
      "If val = att0=third AND val = att2=female AND val = att3=yes THEN val = att1=adult   Confidence: 1.0    Support: 0.3044070876874148   Lift: 0.3202676864244742\n",
      "If val = att0=third AND val = att1=adult AND val = att3=yes THEN val = att2=female   Confidence: 0.9955423476968797    Support: 0.3044070876874148   Lift: 0.3870595031773541\n",
      "If val = att0=third AND val = att3=yes THEN val = att1=adult AND val = att2=female   Confidence: 0.9955423476968797    Support: 0.3044070876874148   Lift: 0.40191961607678467\n",
      "\n"
     ]
    }
   ],
   "source": [
    "table.load_from_file(\"input_data/titanic.csv\")\n",
    "rule_miner = MyAssociationRuleMiner(.25, .9)\n",
    "\n",
    "rule_miner.fit(table.data)\n",
    "\n",
    "rule_miner.print_association_rules(table.data)"
   ]
  },
  {
   "cell_type": "markdown",
   "metadata": {},
   "source": [
    "Lowering the support generated a lot more rules, even with a very high confidence theshold, which tells me that these are very stong associations between potential left and right hand sides, even if the left hand side does not occur all that often. This again makes sense because people were likely evacuated by class, age, and gender so there are going to be large associations between these attributes. Lets lower the support to .1 and see how many rules are generated."
   ]
  },
  {
   "cell_type": "code",
   "execution_count": 36,
   "metadata": {},
   "outputs": [
    {
     "name": "stdout",
     "output_type": "stream",
     "text": [
      "['att0=crew', 'att0=first', 'att0=second', 'att0=third', 'att1=adult', 'att1=child', 'att2=female', 'att2=male', 'att3=no', 'att3=yes']\n",
      "If val = att0=crew THEN val = att1=adult   Confidence: 0.9815384615384616    Support: 0.1449341208541572   Lift: 0.15248565965583175\n",
      "If val = att0=first THEN val = att1=adult   Confidence: 0.9157894736842105    Support: 0.1185824625170377   Lift: 0.12476099426386233\n",
      "If val = att0=third THEN val = att1=adult   Confidence: 1.0    Support: 0.4020899591094957   Lift: 0.42304015296367115\n",
      "If val = att0=third THEN val = att2=female   Confidence: 0.9740112994350283    Support: 0.39164016356201725   Lift: 0.49797804737146156\n",
      "If val = att2=female THEN val = att1=adult   Confidence: 0.9630271519352975    Support: 0.7573830077237619   Lift: 0.7968451242829828\n",
      "If val = att2=male THEN val = att1=adult   Confidence: 0.9042553191489362    Support: 0.1930940481599273   Lift: 0.2031548757170172\n",
      "If val = att3=no THEN val = att1=adult   Confidence: 0.919831223628692    Support: 0.2971376646978646   Lift: 0.31261950286806883\n",
      "If val = att3=yes THEN val = att1=adult   Confidence: 0.9651006711409396    Support: 0.6533393911858246   Lift: 0.6873804971319312\n",
      "If val = att3=yes THEN val = att2=female   Confidence: 0.9154362416107382    Support: 0.6197183098591549   Lift: 0.7879838243789717\n",
      "If val = att0=second AND val = att2=female THEN val = att1=adult   Confidence: 0.9058823529411765    Support: 0.20990458882326216   Lift: 0.2208413001912046\n",
      "If val = att0=second AND val = att3=yes THEN val = att1=adult   Confidence: 0.9015151515151515    Support: 0.2162653339391186   Lift: 0.22753346080305928\n",
      "If val = att0=third AND val = att2=female THEN val = att1=adult   Confidence: 1.0    Support: 0.39164016356201725   Lift: 0.41204588910133844\n",
      "If val = att0=third AND val = att1=adult THEN val = att2=female   Confidence: 0.9740112994350283    Support: 0.39164016356201725   Lift: 0.49797804737146156\n",
      "If val = att0=third THEN val = att1=adult AND val = att2=female   Confidence: 0.9740112994350283    Support: 0.39164016356201725   Lift: 0.5170965806838632\n",
      "If val = att0=third AND val = att3=yes THEN val = att1=adult   Confidence: 1.0    Support: 0.3057701044979555   Lift: 0.32170172084130016\n",
      "If val = att0=third AND val = att3=yes THEN val = att2=female   Confidence: 0.9955423476968797    Support: 0.3044070876874148   Lift: 0.3870595031773541\n",
      "If val = att2=female AND val = att3=no THEN val = att1=adult   Confidence: 0.9209809264305178    Support: 0.15356656065424806   Lift: 0.1615678776290631\n",
      "If val = att2=female AND val = att3=yes THEN val = att1=adult   Confidence: 0.9743401759530792    Support: 0.6038164470695139   Lift: 0.6352772466539197\n",
      "If val = att1=adult AND val = att3=yes THEN val = att2=female   Confidence: 0.9242002781641169    Support: 0.6038164470695139   Lift: 0.7677642980935875\n",
      "If val = att2=male AND val = att3=no THEN val = att1=adult   Confidence: 0.9186046511627907    Support: 0.14357110404361653   Lift: 0.15105162523900573\n",
      "If val = att0=second AND val = att2=female AND val = att3=yes THEN val = att1=adult   Confidence: 0.9170616113744076    Support: 0.17582916855974556   Lift: 0.1849904397705545\n",
      "If val = att0=third AND val = att2=female AND val = att3=yes THEN val = att1=adult   Confidence: 1.0    Support: 0.3044070876874148   Lift: 0.3202676864244742\n",
      "If val = att0=third AND val = att1=adult AND val = att3=yes THEN val = att2=female   Confidence: 0.9955423476968797    Support: 0.3044070876874148   Lift: 0.3870595031773541\n",
      "If val = att0=third AND val = att3=yes THEN val = att1=adult AND val = att2=female   Confidence: 0.9955423476968797    Support: 0.3044070876874148   Lift: 0.40191961607678467\n",
      "\n"
     ]
    }
   ],
   "source": [
    "table.load_from_file(\"input_data/titanic.csv\")\n",
    "rule_miner = MyAssociationRuleMiner(.1, .9)\n",
    "\n",
    "rule_miner.fit(table.data) \n",
    "\n",
    "rule_miner.print_association_rules(table.data)"
   ]
  },
  {
   "cell_type": "markdown",
   "metadata": {},
   "source": [
    "A few more rules were added, but I'm honestly surprised that there aren't more. A few rules that stand out to me are if the person was male and did not survive, then they were likely an adult and the last four rules, where every single attribute was used. Again, it is not surpising that males who died were adults due to them being the last people to get evacuated. Lets see what happens when we lower confidence to .75. I expect a lot of rules."
   ]
  },
  {
   "cell_type": "code",
   "execution_count": 37,
   "metadata": {},
   "outputs": [
    {
     "name": "stdout",
     "output_type": "stream",
     "text": [
      "['att0=crew', 'att0=first', 'att0=second', 'att0=third', 'att1=adult', 'att1=child', 'att2=female', 'att2=male', 'att3=no', 'att3=yes']\n",
      "If val = att0=crew THEN val = att1=adult   Confidence: 0.9815384615384616    Support: 0.1449341208541572   Lift: 0.15248565965583175\n",
      "If val = att0=first THEN val = att1=adult   Confidence: 0.9157894736842105    Support: 0.1185824625170377   Lift: 0.12476099426386233\n",
      "If val = att0=second THEN val = att1=adult   Confidence: 0.8881019830028328    Support: 0.2848705134029986   Lift: 0.2997131931166348\n",
      "If val = att0=third THEN val = att1=adult   Confidence: 1.0    Support: 0.4020899591094957   Lift: 0.42304015296367115\n",
      "If val = att0=third THEN val = att2=female   Confidence: 0.9740112994350283    Support: 0.39164016356201725   Lift: 0.49797804737146156\n",
      "If val = att0=third THEN val = att3=yes   Confidence: 0.7604519774011299    Support: 0.3057701044979555   Lift: 0.45167785234899327\n",
      "If val = att2=female THEN val = att1=adult   Confidence: 0.9630271519352975    Support: 0.7573830077237619   Lift: 0.7968451242829828\n",
      "If val = att1=adult THEN val = att2=female   Confidence: 0.7968451242829828    Support: 0.7573830077237619   Lift: 0.9630271519352975\n",
      "If val = att2=male THEN val = att1=adult   Confidence: 0.9042553191489362    Support: 0.1930940481599273   Lift: 0.2031548757170172\n",
      "If val = att3=no THEN val = att1=adult   Confidence: 0.919831223628692    Support: 0.2971376646978646   Lift: 0.31261950286806883\n",
      "If val = att3=yes THEN val = att1=adult   Confidence: 0.9651006711409396    Support: 0.6533393911858246   Lift: 0.6873804971319312\n",
      "If val = att3=yes THEN val = att2=female   Confidence: 0.9154362416107382    Support: 0.6197183098591549   Lift: 0.7879838243789717\n",
      "If val = att2=female THEN val = att3=yes   Confidence: 0.7879838243789717    Support: 0.6197183098591549   Lift: 0.9154362416107382\n",
      "If val = att0=second AND val = att2=female THEN val = att1=adult   Confidence: 0.9058823529411765    Support: 0.20990458882326216   Lift: 0.2208413001912046\n",
      "If val = att0=second AND val = att3=yes THEN val = att1=adult   Confidence: 0.9015151515151515    Support: 0.2162653339391186   Lift: 0.22753346080305928\n",
      "If val = att0=second AND val = att1=adult THEN val = att3=yes   Confidence: 0.759170653907496    Support: 0.2162653339391186   Lift: 0.3194630872483222\n",
      "If val = att0=second AND val = att3=yes THEN val = att2=female   Confidence: 0.7992424242424242    Support: 0.19173103134938665   Lift: 0.243789716926632\n",
      "If val = att0=second AND val = att2=female THEN val = att3=yes   Confidence: 0.8274509803921568    Support: 0.19173103134938665   Lift: 0.2832214765100671\n",
      "If val = att0=third AND val = att2=female THEN val = att1=adult   Confidence: 1.0    Support: 0.39164016356201725   Lift: 0.41204588910133844\n",
      "If val = att0=third AND val = att1=adult THEN val = att2=female   Confidence: 0.9740112994350283    Support: 0.39164016356201725   Lift: 0.49797804737146156\n",
      "If val = att0=third THEN val = att1=adult AND val = att2=female   Confidence: 0.9740112994350283    Support: 0.39164016356201725   Lift: 0.5170965806838632\n",
      "If val = att0=third AND val = att3=yes THEN val = att1=adult   Confidence: 1.0    Support: 0.3057701044979555   Lift: 0.32170172084130016\n",
      "If val = att0=third AND val = att1=adult THEN val = att3=yes   Confidence: 0.7604519774011299    Support: 0.3057701044979555   Lift: 0.45167785234899327\n",
      "If val = att0=third THEN val = att1=adult AND val = att3=yes   Confidence: 0.7604519774011299    Support: 0.3057701044979555   Lift: 0.46801112656467314\n",
      "If val = att0=third AND val = att3=yes THEN val = att2=female   Confidence: 0.9955423476968797    Support: 0.3044070876874148   Lift: 0.3870595031773541\n",
      "If val = att0=third AND val = att2=female THEN val = att3=yes   Confidence: 0.777262180974478    Support: 0.3044070876874148   Lift: 0.44966442953020136\n",
      "If val = att0=third THEN val = att2=female AND val = att3=yes   Confidence: 0.7570621468926554    Support: 0.3044070876874148   Lift: 0.4912023460410557\n",
      "If val = att2=female AND val = att3=no THEN val = att1=adult   Confidence: 0.9209809264305178    Support: 0.15356656065424806   Lift: 0.1615678776290631\n",
      "If val = att2=female AND val = att3=yes THEN val = att1=adult   Confidence: 0.9743401759530792    Support: 0.6038164470695139   Lift: 0.6352772466539197\n",
      "If val = att1=adult AND val = att3=yes THEN val = att2=female   Confidence: 0.9242002781641169    Support: 0.6038164470695139   Lift: 0.7677642980935875\n",
      "If val = att1=adult AND val = att2=female THEN val = att3=yes   Confidence: 0.7972405518896221    Support: 0.6038164470695139   Lift: 0.8919463087248322\n",
      "If val = att3=yes THEN val = att1=adult AND val = att2=female   Confidence: 0.8919463087248322    Support: 0.6038164470695139   Lift: 0.7972405518896221\n",
      "If val = att2=female THEN val = att1=adult AND val = att3=yes   Confidence: 0.7677642980935875    Support: 0.6038164470695139   Lift: 0.9242002781641169\n",
      "If val = att2=male AND val = att3=no THEN val = att1=adult   Confidence: 0.9186046511627907    Support: 0.14357110404361653   Lift: 0.15105162523900573\n",
      "If val = att0=second AND val = att2=female AND val = att3=yes THEN val = att1=adult   Confidence: 0.9170616113744076    Support: 0.17582916855974556   Lift: 0.1849904397705545\n",
      "If val = att0=second AND val = att1=adult AND val = att3=yes THEN val = att2=female   Confidence: 0.8130252100840336    Support: 0.17582916855974556   Lift: 0.22357019064124783\n",
      "If val = att0=second AND val = att1=adult AND val = att2=female THEN val = att3=yes   Confidence: 0.8376623376623377    Support: 0.17582916855974556   Lift: 0.25973154362416107\n",
      "If val = att0=second AND val = att2=female THEN val = att1=adult AND val = att3=yes   Confidence: 0.7588235294117647    Support: 0.17582916855974556   Lift: 0.26912378303198886\n",
      "If val = att0=third AND val = att2=female AND val = att3=yes THEN val = att1=adult   Confidence: 1.0    Support: 0.3044070876874148   Lift: 0.3202676864244742\n",
      "If val = att0=third AND val = att1=adult AND val = att3=yes THEN val = att2=female   Confidence: 0.9955423476968797    Support: 0.3044070876874148   Lift: 0.3870595031773541\n",
      "If val = att0=third AND val = att1=adult AND val = att2=female THEN val = att3=yes   Confidence: 0.777262180974478    Support: 0.3044070876874148   Lift: 0.44966442953020136\n",
      "If val = att0=third AND val = att3=yes THEN val = att1=adult AND val = att2=female   Confidence: 0.9955423476968797    Support: 0.3044070876874148   Lift: 0.40191961607678467\n",
      "If val = att0=third AND val = att2=female THEN val = att1=adult AND val = att3=yes   Confidence: 0.777262180974478    Support: 0.3044070876874148   Lift: 0.4659248956884562\n",
      "If val = att0=third AND val = att1=adult THEN val = att2=female AND val = att3=yes   Confidence: 0.7570621468926554    Support: 0.3044070876874148   Lift: 0.4912023460410557\n",
      "If val = att0=third THEN val = att1=adult AND val = att2=female AND val = att3=yes   Confidence: 0.7570621468926554    Support: 0.3044070876874148   Lift: 0.5041384499623778\n",
      "\n"
     ]
    }
   ],
   "source": [
    "table.load_from_file(\"input_data/titanic.csv\")\n",
    "rule_miner = MyAssociationRuleMiner(.1, .75)\n",
    "\n",
    "rule_miner.fit(table.data)\n",
    "\n",
    "rule_miner.print_association_rules(table.data)"
   ]
  },
  {
   "cell_type": "markdown",
   "metadata": {},
   "source": [
    "I'm not going to describe what I see in the data due to the fact that there are so many rules that they actually exceed the size limit for a Jupyter Notebook. This makes it hard to find any type of trends because there is so much going on. Lastly, I am going to look at the default values for support and confidence of .25 and .8."
   ]
  },
  {
   "cell_type": "code",
   "execution_count": 38,
   "metadata": {},
   "outputs": [
    {
     "name": "stdout",
     "output_type": "stream",
     "text": [
      "['att0=crew', 'att0=first', 'att0=second', 'att0=third', 'att1=adult', 'att1=child', 'att2=female', 'att2=male', 'att3=no', 'att3=yes']\n",
      "If val = att0=second THEN val = att1=adult   Confidence: 0.8881019830028328    Support: 0.2848705134029986   Lift: 0.2997131931166348\n",
      "If val = att0=third THEN val = att1=adult   Confidence: 1.0    Support: 0.4020899591094957   Lift: 0.42304015296367115\n",
      "If val = att0=third THEN val = att2=female   Confidence: 0.9740112994350283    Support: 0.39164016356201725   Lift: 0.49797804737146156\n",
      "If val = att2=female THEN val = att1=adult   Confidence: 0.9630271519352975    Support: 0.7573830077237619   Lift: 0.7968451242829828\n",
      "If val = att3=no THEN val = att1=adult   Confidence: 0.919831223628692    Support: 0.2971376646978646   Lift: 0.31261950286806883\n",
      "If val = att3=yes THEN val = att1=adult   Confidence: 0.9651006711409396    Support: 0.6533393911858246   Lift: 0.6873804971319312\n",
      "If val = att3=yes THEN val = att2=female   Confidence: 0.9154362416107382    Support: 0.6197183098591549   Lift: 0.7879838243789717\n",
      "If val = att0=third AND val = att2=female THEN val = att1=adult   Confidence: 1.0    Support: 0.39164016356201725   Lift: 0.41204588910133844\n",
      "If val = att0=third AND val = att1=adult THEN val = att2=female   Confidence: 0.9740112994350283    Support: 0.39164016356201725   Lift: 0.49797804737146156\n",
      "If val = att0=third THEN val = att1=adult AND val = att2=female   Confidence: 0.9740112994350283    Support: 0.39164016356201725   Lift: 0.5170965806838632\n",
      "If val = att0=third AND val = att3=yes THEN val = att1=adult   Confidence: 1.0    Support: 0.3057701044979555   Lift: 0.32170172084130016\n",
      "If val = att0=third AND val = att3=yes THEN val = att2=female   Confidence: 0.9955423476968797    Support: 0.3044070876874148   Lift: 0.3870595031773541\n",
      "If val = att2=female AND val = att3=yes THEN val = att1=adult   Confidence: 0.9743401759530792    Support: 0.6038164470695139   Lift: 0.6352772466539197\n",
      "If val = att1=adult AND val = att3=yes THEN val = att2=female   Confidence: 0.9242002781641169    Support: 0.6038164470695139   Lift: 0.7677642980935875\n",
      "If val = att3=yes THEN val = att1=adult AND val = att2=female   Confidence: 0.8919463087248322    Support: 0.6038164470695139   Lift: 0.7972405518896221\n",
      "If val = att0=third AND val = att2=female AND val = att3=yes THEN val = att1=adult   Confidence: 1.0    Support: 0.3044070876874148   Lift: 0.3202676864244742\n",
      "If val = att0=third AND val = att1=adult AND val = att3=yes THEN val = att2=female   Confidence: 0.9955423476968797    Support: 0.3044070876874148   Lift: 0.3870595031773541\n",
      "If val = att0=third AND val = att3=yes THEN val = att1=adult AND val = att2=female   Confidence: 0.9955423476968797    Support: 0.3044070876874148   Lift: 0.40191961607678467\n",
      "\n"
     ]
    }
   ],
   "source": [
    "table.load_from_file(\"input_data/titanic.csv\")\n",
    "rule_miner = MyAssociationRuleMiner()\n",
    "\n",
    "rule_miner.fit(table.data)\n",
    "\n",
    "rule_miner.print_association_rules(table.data)"
   ]
  },
  {
   "cell_type": "markdown",
   "metadata": {},
   "source": [
    "This ended up generating a lot of rules, though not nearly as many as the last miner. An interesting rule that could definetly be something to do some supervised learning centered around was that if someone in the third class and they survived, then they were likely an adult female. I dont know if this is because they had a higher survival rate then other people in third class or if most of the people in third class were female, but this could be something to look into further."
   ]
  }
 ],
 "metadata": {
  "kernelspec": {
   "display_name": "Python 3.9.12 ('base')",
   "language": "python",
   "name": "python3"
  },
  "language_info": {
   "codemirror_mode": {
    "name": "ipython",
    "version": 3
   },
   "file_extension": ".py",
   "mimetype": "text/x-python",
   "name": "python",
   "nbconvert_exporter": "python",
   "pygments_lexer": "ipython3",
   "version": "3.9.12"
  },
  "orig_nbformat": 2,
  "vscode": {
   "interpreter": {
    "hash": "d4d1e4263499bec80672ea0156c357c1ee493ec2b1c70f0acce89fc37c4a6abe"
   }
  }
 },
 "nbformat": 4,
 "nbformat_minor": 2
}
