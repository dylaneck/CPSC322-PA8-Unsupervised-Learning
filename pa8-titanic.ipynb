{
 "cells": [
  {
   "cell_type": "code",
   "execution_count": 15,
   "metadata": {},
   "outputs": [],
   "source": [
    "# some useful mysklearn package import statements and reloads\n",
    "import importlib\n",
    "\n",
    "import mysklearn.myutils\n",
    "importlib.reload(mysklearn.myutils)\n",
    "import mysklearn.myutils as myutils\n",
    "\n",
    "# uncomment once you paste your mypytable.py into mysklearn package\n",
    "import mysklearn.mypytable\n",
    "importlib.reload(mysklearn.mypytable)\n",
    "from mysklearn.mypytable import MyPyTable \n",
    "\n",
    "import mysklearn.myruleminer\n",
    "importlib.reload(mysklearn.myruleminer)\n",
    "from mysklearn.myruleminer import MyAssociationRuleMiner"
   ]
  },
  {
   "cell_type": "markdown",
   "metadata": {},
   "source": [
    "## Titanic Dataset\n",
    "\n",
    "We are now going to do some rule mining with the titanic data set, using different support and confidence values. We are then going to compare the findings between the rules the different support and confidence levels create. First we are going to use the default confidence of .8 along with a high support of .4."
   ]
  },
  {
   "cell_type": "code",
   "execution_count": 16,
   "metadata": {},
   "outputs": [
    {
     "name": "stdout",
     "output_type": "stream",
     "text": [
      "['att0=crew', 'att0=first', 'att0=second', 'att0=third', 'att1=adult', 'att1=child', 'att2=female', 'att2=male', 'att3=no', 'att3=yes']\n",
      "If val = att0=third THEN val = att1=adult           Confidence: 1.0    Support: 0.4020899591094957   Lift0.42304015296367115\n",
      "If val = att2=female THEN val = att1=adult           Confidence: 0.9630271519352975    Support: 0.7573830077237619   Lift0.7968451242829828\n",
      "If val = att3=yes THEN val = att1=adult           Confidence: 0.9651006711409396    Support: 0.6533393911858246   Lift0.6873804971319312\n",
      "If val = att3=yes THEN val = att2=female           Confidence: 0.9154362416107382    Support: 0.6197183098591549   Lift0.7879838243789717\n",
      "If val = att2=female AND val = att3=yes THEN val = att1=adult           Confidence: 0.9743401759530792    Support: 0.6038164470695139   Lift0.6352772466539197\n",
      "If val = att1=adult AND val = att3=yes THEN val = att2=female           Confidence: 0.9242002781641169    Support: 0.6038164470695139   Lift0.7677642980935875\n",
      "If val = att3=yes THEN val = att1=adult AND val = att2=female           Confidence: 0.8919463087248322    Support: 0.6038164470695139   Lift0.7972405518896221\n",
      "\n"
     ]
    }
   ],
   "source": [
    "table = MyPyTable()\n",
    "\n",
    "table.load_from_file(\"input_data/titanic.csv\")\n",
    "\n",
    "rule_miner = MyAssociationRuleMiner(.4, .8)\n",
    "\n",
    "rule_miner.fit(table.data)\n",
    "\n",
    "rule_miner.print_association_rules(table.data)"
   ]
  },
  {
   "cell_type": "markdown",
   "metadata": {},
   "source": [
    "As you can see, these support and confidence levels generated 7 rules, with the main focus of the rules seeming to be around the person being an adult, a female, and that they survived. There seems to be a strong correlation between gender and survival rate, because all 4/6 of the rules generated that mentioned either yes for survival or female for gender had the other one also in the rule. This seems to make sense because my understanding of the evacuation was then women and children got onto escape boats first, so they would have a higher chance of survival then men. Lets see how this compares to changing the confidence level to .7."
   ]
  },
  {
   "cell_type": "code",
   "execution_count": 17,
   "metadata": {},
   "outputs": [
    {
     "name": "stdout",
     "output_type": "stream",
     "text": [
      "['att0=crew', 'att0=first', 'att0=second', 'att0=third', 'att1=adult', 'att1=child', 'att2=female', 'att2=male', 'att3=no', 'att3=yes']\n"
     ]
    },
    {
     "ename": "TypeError",
     "evalue": "print_association_rules() missing 1 required positional argument: 'X_train'",
     "output_type": "error",
     "traceback": [
      "\u001b[0;31m---------------------------------------------------------------------------\u001b[0m",
      "\u001b[0;31mTypeError\u001b[0m                                 Traceback (most recent call last)",
      "\u001b[1;32m/home/Desktop/CS_322/pa8-dylaneck/pa8-titanic.ipynb Cell 5\u001b[0m in \u001b[0;36m<cell line: 6>\u001b[0;34m()\u001b[0m\n\u001b[1;32m      <a href='vscode-notebook-cell://attached-container%2B7b22636f6e7461696e65724e616d65223a222f616e61636f6e6461335f63707363333232227d/home/Desktop/CS_322/pa8-dylaneck/pa8-titanic.ipynb#W4sdnNjb2RlLXJlbW90ZQ%3D%3D?line=1'>2</a>\u001b[0m rule_miner \u001b[39m=\u001b[39m MyAssociationRuleMiner(\u001b[39m.4\u001b[39m, \u001b[39m.7\u001b[39m)\n\u001b[1;32m      <a href='vscode-notebook-cell://attached-container%2B7b22636f6e7461696e65724e616d65223a222f616e61636f6e6461335f63707363333232227d/home/Desktop/CS_322/pa8-dylaneck/pa8-titanic.ipynb#W4sdnNjb2RlLXJlbW90ZQ%3D%3D?line=3'>4</a>\u001b[0m rule_miner\u001b[39m.\u001b[39mfit(table\u001b[39m.\u001b[39mdata)\n\u001b[0;32m----> <a href='vscode-notebook-cell://attached-container%2B7b22636f6e7461696e65724e616d65223a222f616e61636f6e6461335f63707363333232227d/home/Desktop/CS_322/pa8-dylaneck/pa8-titanic.ipynb#W4sdnNjb2RlLXJlbW90ZQ%3D%3D?line=5'>6</a>\u001b[0m rule_miner\u001b[39m.\u001b[39;49mprint_association_rules()\n",
      "\u001b[0;31mTypeError\u001b[0m: print_association_rules() missing 1 required positional argument: 'X_train'"
     ]
    }
   ],
   "source": [
    "table.load_from_file(\"input_data/titanic.csv\")\n",
    "rule_miner = MyAssociationRuleMiner(.4, .7)\n",
    "\n",
    "rule_miner.fit(table.data)\n",
    "\n",
    "rule_miner.print_association_rules(table.data)"
   ]
  },
  {
   "cell_type": "markdown",
   "metadata": {},
   "source": [
    "Obviously, this rule miner has the same rules as the previous one, however it also added 4 more due to the lower confidence threshold. These added rules seemed to further show a connection between gender and survival, but also started to show that most of the people on the boat were adults. This also makes sense because I doubt many people would be bringing their kids on a ship like this, though there were obviously some. Lets try changing the support to .25 and the confidence to .9 and see what happens."
   ]
  },
  {
   "cell_type": "code",
   "execution_count": null,
   "metadata": {},
   "outputs": [
    {
     "name": "stdout",
     "output_type": "stream",
     "text": [
      "['att0=crew', 'att0=first', 'att0=second', 'att0=third', 'att1=adult', 'att1=child', 'att2=female', 'att2=male', 'att3=no', 'att3=yes']\n",
      "If val = att0=third THEN val = att1=adult           Confidence: 0.0    Support: 0.0   Lift0.0If val = att0=third THEN val = att2=female           Confidence: 0.0    Support: 0.0   Lift0.0If val = att2=female THEN val = att1=adult           Confidence: 0.0    Support: 0.0   Lift0.0If val = att3=no THEN val = att1=adult           Confidence: 0.0    Support: 0.0   Lift0.0If val = att3=yes THEN val = att1=adult           Confidence: 0.0    Support: 0.0   Lift0.0If val = att3=yes THEN val = att2=female           Confidence: 0.0    Support: 0.0   Lift0.0If val = att0=third AND val = att2=female THEN val = att1=adult           Confidence: 0.0    Support: 0.0   Lift0.0If val = att0=third AND val = att1=adult THEN val = att2=female           Confidence: 0.0    Support: 0.0   Lift0.0If val = att0=third THEN val = att1=adult AND val = att2=female           Confidence: 0.0    Support: 0.0   Lift0.0If val = att0=third AND val = att3=yes THEN val = att1=adult           Confidence: 0.0    Support: 0.0   Lift0.0If val = att0=third AND val = att3=yes THEN val = att2=female           Confidence: 0.0    Support: 0.0   Lift0.0If val = att2=female AND val = att3=yes THEN val = att1=adult           Confidence: 0.0    Support: 0.0   Lift0.0If val = att1=adult AND val = att3=yes THEN val = att2=female           Confidence: 0.0    Support: 0.0   Lift0.0If val = att0=third AND val = att2=female AND val = att3=yes THEN val = att1=adult           Confidence: 0.0    Support: 0.0   Lift0.0If val = att0=third AND val = att1=adult AND val = att3=yes THEN val = att2=female           Confidence: 0.0    Support: 0.0   Lift0.0If val = att0=third AND val = att3=yes THEN val = att1=adult AND val = att2=female           Confidence: 0.0    Support: 0.0   Lift0.0\n"
     ]
    }
   ],
   "source": [
    "table.load_from_file(\"input_data/titanic.csv\")\n",
    "rule_miner = MyAssociationRuleMiner(.25, .9)\n",
    "\n",
    "rule_miner.fit(table.data)\n",
    "\n",
    "rule_miner.print_association_rules(table.data)"
   ]
  },
  {
   "cell_type": "markdown",
   "metadata": {},
   "source": [
    "Lowering the support generated a lot more rules, even with a very high confidence theshold, which tells me that these are very stong associations between potential left and right hand sides, even if the left hand side does not occur all that often. This again makes sense because people were likely evacuated by class, age, and gender so there are going to be large associations between these attributes. Lets lower the support to .1 and see how many rules are generated."
   ]
  },
  {
   "cell_type": "code",
   "execution_count": null,
   "metadata": {},
   "outputs": [
    {
     "name": "stdout",
     "output_type": "stream",
     "text": [
      "['att0=crew', 'att0=first', 'att0=second', 'att0=third', 'att1=adult', 'att1=child', 'att2=female', 'att2=male', 'att3=no', 'att3=yes']\n",
      "If val = att0=crew THEN val = att1=adult           Confidence: 0.0    Support: 0.0   Lift0.0If val = att0=first THEN val = att1=adult           Confidence: 0.0    Support: 0.0   Lift0.0If val = att0=third THEN val = att1=adult           Confidence: 0.0    Support: 0.0   Lift0.0If val = att0=third THEN val = att2=female           Confidence: 0.0    Support: 0.0   Lift0.0If val = att2=female THEN val = att1=adult           Confidence: 0.0    Support: 0.0   Lift0.0If val = att2=male THEN val = att1=adult           Confidence: 0.0    Support: 0.0   Lift0.0If val = att3=no THEN val = att1=adult           Confidence: 0.0    Support: 0.0   Lift0.0If val = att3=yes THEN val = att1=adult           Confidence: 0.0    Support: 0.0   Lift0.0If val = att3=yes THEN val = att2=female           Confidence: 0.0    Support: 0.0   Lift0.0If val = att0=second AND val = att2=female THEN val = att1=adult           Confidence: 0.0    Support: 0.0   Lift0.0If val = att0=second AND val = att3=yes THEN val = att1=adult           Confidence: 0.0    Support: 0.0   Lift0.0If val = att0=third AND val = att2=female THEN val = att1=adult           Confidence: 0.0    Support: 0.0   Lift0.0If val = att0=third AND val = att1=adult THEN val = att2=female           Confidence: 0.0    Support: 0.0   Lift0.0If val = att0=third THEN val = att1=adult AND val = att2=female           Confidence: 0.0    Support: 0.0   Lift0.0If val = att0=third AND val = att3=yes THEN val = att1=adult           Confidence: 0.0    Support: 0.0   Lift0.0If val = att0=third AND val = att3=yes THEN val = att2=female           Confidence: 0.0    Support: 0.0   Lift0.0If val = att2=female AND val = att3=no THEN val = att1=adult           Confidence: 0.0    Support: 0.0   Lift0.0If val = att2=female AND val = att3=yes THEN val = att1=adult           Confidence: 0.0    Support: 0.0   Lift0.0If val = att1=adult AND val = att3=yes THEN val = att2=female           Confidence: 0.0    Support: 0.0   Lift0.0If val = att2=male AND val = att3=no THEN val = att1=adult           Confidence: 0.0    Support: 0.0   Lift0.0If val = att0=second AND val = att2=female AND val = att3=yes THEN val = att1=adult           Confidence: 0.0    Support: 0.0   Lift0.0If val = att0=third AND val = att2=female AND val = att3=yes THEN val = att1=adult           Confidence: 0.0    Support: 0.0   Lift0.0If val = att0=third AND val = att1=adult AND val = att3=yes THEN val = att2=female           Confidence: 0.0    Support: 0.0   Lift0.0If val = att0=third AND val = att3=yes THEN val = att1=adult AND val = att2=female           Confidence: 0.0    Support: 0.0   Lift0.0\n"
     ]
    }
   ],
   "source": [
    "table.load_from_file(\"input_data/titanic.csv\")\n",
    "rule_miner = MyAssociationRuleMiner(.1, .9)\n",
    "\n",
    "rule_miner.fit(table.data)\n",
    "\n",
    "rule_miner.print_association_rules(table.data)"
   ]
  },
  {
   "cell_type": "markdown",
   "metadata": {},
   "source": [
    "A few more rules were added, but I'm honestly surprised that there aren't more. A few rules that stand out to me are if the person was male and did not survive, then they were likely an adult and the last four rules, where every single attribute was used. Again, it is not surpising that males who died were adults due to them being the last people to get evacuated. Lets see what happens when we lower confidence to .75. I expect a lot of rules."
   ]
  },
  {
   "cell_type": "code",
   "execution_count": null,
   "metadata": {},
   "outputs": [
    {
     "name": "stdout",
     "output_type": "stream",
     "text": [
      "['att0=crew', 'att0=first', 'att0=second', 'att0=third', 'att1=adult', 'att1=child', 'att2=female', 'att2=male', 'att3=no', 'att3=yes']\n",
      "If val = att0=crew THEN val = att1=adult           Confidence: 0.0    Support: 0.0   Lift0.0If val = att0=first THEN val = att1=adult           Confidence: 0.0    Support: 0.0   Lift0.0If val = att0=second THEN val = att1=adult           Confidence: 0.0    Support: 0.0   Lift0.0If val = att0=third THEN val = att1=adult           Confidence: 0.0    Support: 0.0   Lift0.0If val = att0=third THEN val = att2=female           Confidence: 0.0    Support: 0.0   Lift0.0If val = att0=third THEN val = att3=yes           Confidence: 0.0    Support: 0.0   Lift0.0If val = att2=female THEN val = att1=adult           Confidence: 0.0    Support: 0.0   Lift0.0If val = att1=adult THEN val = att2=female           Confidence: 0.0    Support: 0.0   Lift0.0If val = att2=male THEN val = att1=adult           Confidence: 0.0    Support: 0.0   Lift0.0If val = att3=no THEN val = att1=adult           Confidence: 0.0    Support: 0.0   Lift0.0If val = att3=yes THEN val = att1=adult           Confidence: 0.0    Support: 0.0   Lift0.0If val = att3=yes THEN val = att2=female           Confidence: 0.0    Support: 0.0   Lift0.0If val = att2=female THEN val = att3=yes           Confidence: 0.0    Support: 0.0   Lift0.0If val = att0=second AND val = att2=female THEN val = att1=adult           Confidence: 0.0    Support: 0.0   Lift0.0If val = att0=second AND val = att3=yes THEN val = att1=adult           Confidence: 0.0    Support: 0.0   Lift0.0If val = att0=second AND val = att1=adult THEN val = att3=yes           Confidence: 0.0    Support: 0.0   Lift0.0If val = att0=second AND val = att3=yes THEN val = att2=female           Confidence: 0.0    Support: 0.0   Lift0.0If val = att0=second AND val = att2=female THEN val = att3=yes           Confidence: 0.0    Support: 0.0   Lift0.0If val = att0=third AND val = att2=female THEN val = att1=adult           Confidence: 0.0    Support: 0.0   Lift0.0If val = att0=third AND val = att1=adult THEN val = att2=female           Confidence: 0.0    Support: 0.0   Lift0.0If val = att0=third THEN val = att1=adult AND val = att2=female           Confidence: 0.0    Support: 0.0   Lift0.0If val = att0=third AND val = att3=yes THEN val = att1=adult           Confidence: 0.0    Support: 0.0   Lift0.0If val = att0=third AND val = att1=adult THEN val = att3=yes           Confidence: 0.0    Support: 0.0   Lift0.0If val = att0=third THEN val = att1=adult AND val = att3=yes           Confidence: 0.0    Support: 0.0   Lift0.0If val = att0=third AND val = att3=yes THEN val = att2=female           Confidence: 0.0    Support: 0.0   Lift0.0If val = att0=third AND val = att2=female THEN val = att3=yes           Confidence: 0.0    Support: 0.0   Lift0.0If val = att0=third THEN val = att2=female AND val = att3=yes           Confidence: 0.0    Support: 0.0   Lift0.0If val = att2=female AND val = att3=no THEN val = att1=adult           Confidence: 0.0    Support: 0.0   Lift0.0If val = att2=female AND val = att3=yes THEN val = att1=adult           Confidence: 0.0    Support: 0.0   Lift0.0If val = att1=adult AND val = att3=yes THEN val = att2=female           Confidence: 0.0    Support: 0.0   Lift0.0If val = att1=adult AND val = att2=female THEN val = att3=yes           Confidence: 0.0    Support: 0.0   Lift0.0If val = att3=yes THEN val = att1=adult AND val = att2=female           Confidence: 0.0    Support: 0.0   Lift0.0If val = att2=female THEN val = att1=adult AND val = att3=yes           Confidence: 0.0    Support: 0.0   Lift0.0If val = att2=male AND val = att3=no THEN val = att1=adult           Confidence: 0.0    Support: 0.0   Lift0.0If val = att0=second AND val = att2=female AND val = att3=yes THEN val = att1=adult           Confidence: 0.0    Support: 0.0   Lift0.0If val = att0=second AND val = att1=adult AND val = att3=yes THEN val = att2=female           Confidence: 0.0    Support: 0.0   Lift0.0If val = att0=second AND val = att1=adult AND val = att2=female THEN val = att3=yes           Confidence: 0.0    Support: 0.0   Lift0.0If val = att0=second AND val = att2=female THEN val = att1=adult AND val = att3=yes           Confidence: 0.0    Support: 0.0   Lift0.0If val = att0=third AND val = att2=female AND val = att3=yes THEN val = att1=adult           Confidence: 0.0    Support: 0.0   Lift0.0If val = att0=third AND val = att1=adult AND val = att3=yes THEN val = att2=female           Confidence: 0.0    Support: 0.0   Lift0.0If val = att0=third AND val = att1=adult AND val = att2=female THEN val = att3=yes           Confidence: 0.0    Support: 0.0   Lift0.0If val = att0=third AND val = att3=yes THEN val = att1=adult AND val = att2=female           Confidence: 0.0    Support: 0.0   Lift0.0If val = att0=third AND val = att2=female THEN val = att1=adult AND val = att3=yes           Confidence: 0.0    Support: 0.0   Lift0.0If val = att0=third AND val = att1=adult THEN val = att2=female AND val = att3=yes           Confidence: 0.0    Support: 0.0   Lift0.0If val = att0=third THEN val = att1=adult AND val = att2=female AND val = att3=yes           Confidence: 0.0    Support: 0.0   Lift0.0\n"
     ]
    }
   ],
   "source": [
    "table.load_from_file(\"input_data/titanic.csv\")\n",
    "rule_miner = MyAssociationRuleMiner(.1, .75)\n",
    "\n",
    "rule_miner.fit(table.data)\n",
    "\n",
    "rule_miner.print_association_rules(table.data)"
   ]
  },
  {
   "cell_type": "markdown",
   "metadata": {},
   "source": [
    "I'm not going to describe what I see in the data due to the fact that there are so many rules that they actually exceed the size limit for a Jupyter Notebook. This makes it hard to find any type of trends because there is so much going on. Lastly, I am going to look at the default values for support and confidence of .25 and .8."
   ]
  },
  {
   "cell_type": "code",
   "execution_count": null,
   "metadata": {},
   "outputs": [
    {
     "name": "stdout",
     "output_type": "stream",
     "text": [
      "['att0=crew', 'att0=first', 'att0=second', 'att0=third', 'att1=adult', 'att1=child', 'att2=female', 'att2=male', 'att3=no', 'att3=yes']\n",
      "If val = att0=second THEN val = att1=adult           Confidence: 0.0    Support: 0.0   Lift0.0If val = att0=third THEN val = att1=adult           Confidence: 0.0    Support: 0.0   Lift0.0If val = att0=third THEN val = att2=female           Confidence: 0.0    Support: 0.0   Lift0.0If val = att2=female THEN val = att1=adult           Confidence: 0.0    Support: 0.0   Lift0.0If val = att3=no THEN val = att1=adult           Confidence: 0.0    Support: 0.0   Lift0.0If val = att3=yes THEN val = att1=adult           Confidence: 0.0    Support: 0.0   Lift0.0If val = att3=yes THEN val = att2=female           Confidence: 0.0    Support: 0.0   Lift0.0If val = att0=third AND val = att2=female THEN val = att1=adult           Confidence: 0.0    Support: 0.0   Lift0.0If val = att0=third AND val = att1=adult THEN val = att2=female           Confidence: 0.0    Support: 0.0   Lift0.0If val = att0=third THEN val = att1=adult AND val = att2=female           Confidence: 0.0    Support: 0.0   Lift0.0If val = att0=third AND val = att3=yes THEN val = att1=adult           Confidence: 0.0    Support: 0.0   Lift0.0If val = att0=third AND val = att3=yes THEN val = att2=female           Confidence: 0.0    Support: 0.0   Lift0.0If val = att2=female AND val = att3=yes THEN val = att1=adult           Confidence: 0.0    Support: 0.0   Lift0.0If val = att1=adult AND val = att3=yes THEN val = att2=female           Confidence: 0.0    Support: 0.0   Lift0.0If val = att3=yes THEN val = att1=adult AND val = att2=female           Confidence: 0.0    Support: 0.0   Lift0.0If val = att0=third AND val = att2=female AND val = att3=yes THEN val = att1=adult           Confidence: 0.0    Support: 0.0   Lift0.0If val = att0=third AND val = att1=adult AND val = att3=yes THEN val = att2=female           Confidence: 0.0    Support: 0.0   Lift0.0If val = att0=third AND val = att3=yes THEN val = att1=adult AND val = att2=female           Confidence: 0.0    Support: 0.0   Lift0.0\n"
     ]
    }
   ],
   "source": [
    "table.load_from_file(\"input_data/titanic.csv\")\n",
    "rule_miner = MyAssociationRuleMiner()\n",
    "\n",
    "rule_miner.fit(table.data)\n",
    "\n",
    "rule_miner.print_association_rules(table.data)"
   ]
  },
  {
   "cell_type": "markdown",
   "metadata": {},
   "source": [
    "This ended up generating a lot of rules, though not nearly as many as the last miner. An interesting rule that could definetly be something to do some supervised learning centered around was that if someone in the third class and they survived, then they were likely an adult female. I dont know if this is because they had a higher survival rate then other people in third class or if most of the people in third class were female, but this could be something to look into further."
   ]
  }
 ],
 "metadata": {
  "kernelspec": {
   "display_name": "Python 3.9.12 ('base')",
   "language": "python",
   "name": "python3"
  },
  "language_info": {
   "codemirror_mode": {
    "name": "ipython",
    "version": 3
   },
   "file_extension": ".py",
   "mimetype": "text/x-python",
   "name": "python",
   "nbconvert_exporter": "python",
   "pygments_lexer": "ipython3",
   "version": "3.9.12"
  },
  "orig_nbformat": 2,
  "vscode": {
   "interpreter": {
    "hash": "d4d1e4263499bec80672ea0156c357c1ee493ec2b1c70f0acce89fc37c4a6abe"
   }
  }
 },
 "nbformat": 4,
 "nbformat_minor": 2
}
